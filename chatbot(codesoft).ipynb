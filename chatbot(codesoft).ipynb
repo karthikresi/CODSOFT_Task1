{
  "nbformat": 4,
  "nbformat_minor": 0,
  "metadata": {
    "colab": {
      "provenance": []
    },
    "kernelspec": {
      "name": "python3",
      "display_name": "Python 3"
    },
    "language_info": {
      "name": "python"
    }
  },
  "cells": [
    {
      "cell_type": "code",
      "execution_count": 1,
      "metadata": {
        "colab": {
          "base_uri": "https://localhost:8080/"
        },
        "id": "3p3bDAkGKIvj",
        "outputId": "48f5e36c-4439-4bb1-9ede-79422ada5421"
      },
      "outputs": [
        {
          "output_type": "stream",
          "name": "stdout",
          "text": [
            "Chatbot: Hi! I'm your simple chatbot. Type 'exit' to quit.\n",
            "You: hi\n",
            "Chatbot: Hello! How can I assist you today?\n",
            "You: what is your blind spot\n",
            "Chatbot: Sorry, I didn’t understand that. Can you try asking another way?\n",
            "You: what is your name\n",
            "Chatbot: I'm a rule-based chatbot made for the CodeSoft internship!\n",
            "You: who is the owner of google\n",
            "Chatbot: Sorry, I didn’t understand that. Can you try asking another way?\n",
            "You: quite\n",
            "Chatbot: Sorry, I didn’t understand that. Can you try asking another way?\n",
            "You: quit\n",
            "Chatbot: Bye! Take care.\n"
          ]
        }
      ],
      "source": [
        "import re\n",
        "\n",
        "print(\"Chatbot: Hi! I'm your simple chatbot. Type 'exit' to quit.\")\n",
        "\n",
        "while True:\n",
        "    user_input = input(\"You: \").lower()\n",
        "\n",
        "    if re.search(r'\\b(bye|exit|quit)\\b', user_input):\n",
        "        print(\"Chatbot: Bye! Take care.\")\n",
        "        break\n",
        "\n",
        "    elif re.search(r'\\b(hello|hi|hey)\\b', user_input):\n",
        "        print(\"Chatbot: Hello! How can I assist you today?\")\n",
        "\n",
        "    elif re.search(r'\\bhow are you\\b', user_input):\n",
        "        print(\"Chatbot: I'm a bot, but I feel fantastic! How about you?\")\n",
        "\n",
        "    elif re.search(r'\\b(name|who are you)\\b', user_input):\n",
        "        print(\"Chatbot: I'm a rule-based chatbot made for the CodeSoft internship!\")\n",
        "\n",
        "    elif re.search(r'\\b(help|support)\\b', user_input):\n",
        "        print(\"Chatbot: Sure! Ask me about the weather, greetings, or general info.\")\n",
        "\n",
        "    elif re.search(r'\\b(weather)\\b', user_input):\n",
        "        print(\"Chatbot: I wish I could tell you the weather, but I'm not connected to live data.\")\n",
        "\n",
        "    elif re.search(r'\\b(thank you|thanks)\\b', user_input):\n",
        "        print(\"Chatbot: You're welcome! 😊\")\n",
        "\n",
        "    else:\n",
        "        print(\"Chatbot: Sorry, I didn’t understand that. Can you try asking another way?\")\n"
      ]
    }
  ]
}